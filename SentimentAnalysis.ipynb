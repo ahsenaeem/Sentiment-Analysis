{
 "cells": [
  {
   "attachments": {},
   "cell_type": "markdown",
   "metadata": {},
   "source": [
    "# Course Project: Sentiment Analysis\n",
    "We have provided some synthetic (fake, semi-randomly generated) twitter data in a csv file named `project_twitter_data.csv` which has the text of a tweet, the number of retweets of that tweet, and the number of replies to that tweet. We have also words that express positive sentiment and negative sentiment, in the files `positive_words.txt` and `negative_words.txt`.\n",
    "\n",
    "Your task is to build a sentiment classifier, which will detect how positive or negative each tweet is. You will create a csv file, which contains columns for the Number of Retweets, Number of Replies, Positive Score (which is how many happy words are in the tweet), Negative Score (which is how many angry words are in the tweet), and the Net Score for each tweet. At the end, you upload the csv file to Excel or Google Sheets, and produce a graph of the Net Score vs Number of Retweets.\n",
    "\n",
    "## Step 1: Striping Punctuation\n",
    "To start, define a function called `strip_punctuation` which takes one parameter, a string which represents a word, and removes characters considered punctuation from everywhere in the word."
   ]
  },
  {
   "cell_type": "code",
   "execution_count": 3,
   "metadata": {},
   "outputs": [
    {
     "name": "stdout",
     "output_type": "stream",
     "text": [
      "Original word, Word wihout punctuation\n",
      "#Amazing -> Amazing\n",
      "wow! -> wow\n",
      "#in.cred..ible! -> incredible\n",
      "wonderful -> wonderful\n"
     ]
    }
   ],
   "source": [
    "# Defining the punctuation characters\n",
    "punctuation_chars = [\"'\", '\"', \",\", \".\", \"!\", \":\", \";\", '#', '@']\n",
    "\n",
    "def strip_punctuation(str1): \n",
    "    for char in str1:\n",
    "        if char in punctuation_chars:\n",
    "            str1 = str1.replace(char, '')\n",
    "    \n",
    "    return str1\n",
    "\n"
   ]
  },
  {
   "attachments": {},
   "cell_type": "markdown",
   "metadata": {},
   "source": [
    "## Testing the function"
   ]
  },
  {
   "cell_type": "code",
   "execution_count": 5,
   "metadata": {},
   "outputs": [
    {
     "name": "stdout",
     "output_type": "stream",
     "text": [
      "Original word, Word wihout punctuation\n",
      "#Amazing -> Amazing\n",
      "wow! -> wow\n",
      "#in.cred..ible! -> incredible\n",
      "wonderful -> wonderful\n"
     ]
    }
   ],
   "source": [
    "# Testing the function:\n",
    "words_with_punctuation = ['#Amazing', 'wow!', '#in.cred..ible!', 'wonderful']\n",
    "\n",
    "# Printing the words before and after the punctuation_characters are removed:\n",
    "print('Original word, Word wihout punctuation')\n",
    "for word in words_with_punctuation:\n",
    "    print(f'{word} -> {strip_punctuation(word)}')"
   ]
  },
  {
   "attachments": {},
   "cell_type": "markdown",
   "metadata": {},
   "source": [
    "## Step 2: Getting the Positive Words from a Tweet\n",
    "Next, we define a function called `get_pos` which takes one parameter, a string which represents one or more sentences, and calculates how many words in the string are considered positive words. Use the list, `positive_words` to determine what words will count as positive. The function should return a positive integer - how many occurrences there are of positive words in the text. Note that all of the words in `positive_words` are lower cased, so you’ll need to convert all the words in the input string to lower case as well."
   ]
  },
  {
   "attachments": {},
   "cell_type": "markdown",
   "metadata": {},
   "source": [
    "### Extracting the Positive Words from the `positive_words.txt`"
   ]
  },
  {
   "cell_type": "code",
   "execution_count": 4,
   "metadata": {},
   "outputs": [],
   "source": [
    "# list of positive words to use\n",
    "positive_words = []\n",
    "with open(\"positive_words.txt\") as pos_f:\n",
    "    for lin in pos_f:\n",
    "        if lin[0] != ';' and lin[0] != '\\n':\n",
    "            positive_words.append(lin.strip())\n"
   ]
  },
  {
   "attachments": {},
   "cell_type": "markdown",
   "metadata": {},
   "source": [
    "### Function definition"
   ]
  },
  {
   "cell_type": "code",
   "execution_count": 6,
   "metadata": {},
   "outputs": [],
   "source": [
    "def get_pos(str1):\n",
    "    # Remove Punctuation:\n",
    "    str1 = strip_punctuation(str1)\n",
    "    \n",
    "    # Counting words:\n",
    "    words = str1.strip().split()\n",
    "    \n",
    "    # Counting positive words:\n",
    "    count = 0\n",
    "    for word in words:\n",
    "        word = word.lower()\n",
    "        if word in positive_words:\n",
    "            count+=1\n",
    "    return count"
   ]
  },
  {
   "attachments": {},
   "cell_type": "markdown",
   "metadata": {},
   "source": [
    "### Testing the function: `get_pos`"
   ]
  },
  {
   "cell_type": "code",
   "execution_count": 14,
   "metadata": {},
   "outputs": [
    {
     "name": "stdout",
     "output_type": "stream",
     "text": [
      "Counting positive words in a tweet:\n",
      "what a truly wonderful day it is today! #incredible ---> has 2 positive words in it.\n",
      "what a truly Wonderful day it is today! #incredible ---> has 2 positive words in it.\n",
      "what a truly wonderful day it is today! ---> has 1 positive words in it.\n",
      "the weather is what it is. ---> has 0 positive words in it.\n",
      "The weather truely is abnormal - it's october and already snowing! ---> has 0 positive words in it.\n"
     ]
    }
   ],
   "source": [
    "pos_tweets = [\n",
    "    'what a truly wonderful day it is today! #incredible',\n",
    "    'what a truly Wonderful day it is today! #incredible',\n",
    "    'what a truly wonderful day it is today!',\n",
    "    'the weather is what it is.',\n",
    "    \"The weather truely is abnormal - it's october and already snowing!\"\n",
    "    ]\n",
    "\n",
    "print('Counting positive words in a tweet:')\n",
    "for tweet in pos_tweets:\n",
    "    print(f'{tweet} ---> has {get_pos(tweet)} positive words in it.')"
   ]
  },
  {
   "attachments": {},
   "cell_type": "markdown",
   "metadata": {},
   "source": [
    "## Step 3: Getting the Negative Words from a Tweet\n",
    "Next, we define a function called `get_neg` which takes one parameter, a string which represents one or more sentences, and calculates how many words in the string are considered negative words. Use the list, `negative_words` to determine what words will count as negative. The function should return a positive integer - how many occurrences there are of negative words in the text. Note that all of the words in `negative_words` are lower cased, so you’ll need to convert all the words in the input string to lower case as well."
   ]
  },
  {
   "attachments": {},
   "cell_type": "markdown",
   "metadata": {},
   "source": [
    "### Extracting the negative words from the `negative_words.txt`"
   ]
  },
  {
   "cell_type": "code",
   "execution_count": 13,
   "metadata": {},
   "outputs": [],
   "source": [
    "negative_words = []\n",
    "with open(\"negative_words.txt\") as pos_f:\n",
    "    for lin in pos_f:\n",
    "        if lin[0] != ';' and lin[0] != '\\n':\n",
    "            negative_words.append(lin.strip())"
   ]
  },
  {
   "attachments": {},
   "cell_type": "markdown",
   "metadata": {},
   "source": [
    "### Function definition"
   ]
  },
  {
   "cell_type": "code",
   "execution_count": 12,
   "metadata": {},
   "outputs": [],
   "source": [
    "def get_neg(str1):\n",
    "    # Remove Punctuation:\n",
    "    str1 = strip_punctuation(str1)\n",
    "    \n",
    "    # Counting words:\n",
    "    words = str1.strip().split()\n",
    "    \n",
    "    # Counting positive words:\n",
    "    count = 0\n",
    "    for word in words:\n",
    "        word = word.lower()\n",
    "        if word in negative_words:\n",
    "            count+=1\n",
    "    return count"
   ]
  },
  {
   "attachments": {},
   "cell_type": "markdown",
   "metadata": {},
   "source": [
    "### Testing the function: `get_neg`"
   ]
  },
  {
   "cell_type": "code",
   "execution_count": 15,
   "metadata": {},
   "outputs": [
    {
     "name": "stdout",
     "output_type": "stream",
     "text": [
      "Counting negative words in a tweet:\n",
      "what a truly wonderful day it is today! #incredible ---> has 0 negative words in it.\n",
      "The weather truely is abnormal - it's october and already snowing! ---> has 1 negative words in it.\n",
      "their departure was rather abrupt. However, it was amusing how aloof they had been. ---> has 2 negative words in it.\n",
      "the weather is what it is. ---> has 0 negative words in it.\n"
     ]
    }
   ],
   "source": [
    "neg_tweets = [\n",
    "    'what a truly wonderful day it is today! #incredible',\n",
    "    \"The weather truely is abnormal - it's october and already snowing!\",\n",
    "    'their departure was rather abrupt. However, it was amusing how aloof they had been.',\n",
    "    'the weather is what it is.'\n",
    "    ]\n",
    "\n",
    "print('Counting negative words in a tweet:')\n",
    "for tweet in neg_tweets:\n",
    "    print(f'{tweet} ---> has {get_neg(tweet)} negative words in it.')"
   ]
  },
  {
   "attachments": {},
   "cell_type": "markdown",
   "metadata": {},
   "source": [
    "## Doing Analysis & Generating Output Files\n",
    "Next, we write code that opens the file `project_twitter_data.csv` which has the fake generated twitter data (the text of a tweet, the number of retweets of that tweet, and the number of replies to that tweet). Your task is to build a sentiment classifier, which will detect how positive or negative each tweet is. Copy the code from the code windows above, and put that in the top of this code window. Now, you will write code to create a csv file called `resulting_data.csv`, which contains the Number of Retweets, Number of Replies, Positive Score (which is how many happy words are in the tweet), Negative Score (which is how many angry words are in the tweet), and the Net Score (how positive or negative the text is overall) for each tweet. The file have those headers in that order."
   ]
  },
  {
   "cell_type": "code",
   "execution_count": 16,
   "metadata": {},
   "outputs": [],
   "source": [
    "with open('project_twitter_data.csv', 'r') as f, open('resulting_data.csv','w') as o:\n",
    "    lines = f.readlines()[1:]\n",
    "    o.write('Number of Retweets, Number of Replies, Positive Score, Negative Score, Net Score\\n')\n",
    "    for line in lines:\n",
    "        # Stripping the whitespace:\n",
    "        line = line.strip()\n",
    "        # Splitting the line into strings on comma\n",
    "        split_lst = line.split(',')\n",
    "        # Defining the three variables:\n",
    "        tweet, retweet, reply = split_lst[0], split_lst[1], split_lst[2]\n",
    "        # Removing puntuation characters from the tweet:\n",
    "        tweet = strip_punctuation(tweet)\n",
    "        # Positive/Negative scores\n",
    "        pos, neg = get_pos(tweet), get_neg(tweet)\n",
    "        # Net Score:\n",
    "        net = pos-neg\n",
    "        # Writing things:\n",
    "        o.write(f'{retweet}, {reply}, {pos}, {neg}, {net}\\n')\n"
   ]
  },
  {
   "attachments": {},
   "cell_type": "markdown",
   "metadata": {},
   "source": [
    "### Visualizing the data:\n",
    "For the scatterplot that your peer submitted, you will check to see if the following characteristics are true:\n",
    "\n",
    "- The X axis represents the Net Score. \n",
    "- The Y axis represents the Number of Retweets.\n",
    "\n"
   ]
  },
  {
   "cell_type": "code",
   "execution_count": 31,
   "metadata": {},
   "outputs": [
    {
     "data": {
      "image/png": "[encoded data removed]",
      "text/plain": [
       "<Figure size 1008x720 with 1 Axes>"
      ]
     },
     "metadata": {
      "needs_background": "light"
     },
     "output_type": "display_data"
    }
   ],
   "source": [
    "# Importing matplotlib.pyplot:\n",
    "import matplotlib.pyplot as plt\n",
    "\n",
    "# Initializing the variables to store the result:\n",
    "retweets = []\n",
    "net_score = []\n",
    "\n",
    "# Reading the data from the resulting_data.csv file:\n",
    "with open('resulting_data.csv', 'r') as f:\n",
    "    lines = f.readlines()[1:]               # Reading without the header line\n",
    "    for line in lines:\n",
    "        data = line.strip().split(',')\n",
    "        retweets.append(int(data[0]))\n",
    "        net_score.append(int(data[-1]))\n",
    "\n",
    "# print('Printing the number of retweets: ', retweets)\n",
    "# print('Printing the net_score', net_score)\n",
    "\n",
    "# Creating a figure with desired size\n",
    "plt.figure(figsize=(14, 10))\n",
    "\n",
    "# Plotting the results:\n",
    "plt.scatter(net_score, retweets)\n",
    "\n",
    "# Adding labels to the plot:\n",
    "plt.xlabel('Net Score')\n",
    "plt.ylabel('Number of Retweets')\n",
    "\n",
    "# Adding title to the plot:\n",
    "plt.title('Net Score vs Number of Retweets')\n",
    "\n",
    "# Enabling the grid:\n",
    "plt.grid(True)\n",
    "plt.show()"
   ]
  },
  {
   "cell_type": "code",
   "execution_count": null,
   "metadata": {},
   "outputs": [],
   "source": []
  }
 ],
 "metadata": {
  "kernelspec": {
   "display_name": "base",
   "language": "python",
   "name": "python3"
  },
  "language_info": {
   "codemirror_mode": {
    "name": "ipython",
    "version": 3
   },
   "file_extension": ".py",
   "mimetype": "text/x-python",
   "name": "python",
   "nbconvert_exporter": "python",
   "pygments_lexer": "ipython3",
   "version": "3.9.12"
  },
  "orig_nbformat": 4
 },
 "nbformat": 4,
 "nbformat_minor": 2
}
